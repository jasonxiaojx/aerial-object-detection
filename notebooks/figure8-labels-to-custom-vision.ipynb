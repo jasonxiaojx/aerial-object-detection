{
 "cells": [
  {
   "cell_type": "markdown",
   "metadata": {},
   "source": [
    "# Import Figure8 labels to Custom Vision Service"
   ]
  },
  {
   "cell_type": "code",
   "execution_count": null,
   "metadata": {},
   "outputs": [],
   "source": [
    "# install packages if needed\n",
    "import sys\n",
    "!{sys.executable} -m pip install azure-cognitiveservices-vision-customvision\n",
    "!{sys.executable} -m pip install azureml-sdk\n",
    "!{sys.executable} -m pip install azureml-contrib-dataset\n",
    "!{sys.executable} -m pip install pandas\n",
    "!{sys.executable} -m pip install Pillow"
   ]
  },
  {
   "cell_type": "code",
   "execution_count": 1,
   "metadata": {},
   "outputs": [],
   "source": [
    "import json, os, shutil, requests, math\n",
    "import pandas as pd\n",
    "\n",
    "from PIL import Image\n",
    "from io import BytesIO\n",
    "\n",
    "from azure.cognitiveservices.vision.customvision.training import CustomVisionTrainingClient\n",
    "from azure.cognitiveservices.vision.customvision.training.models import ImageFileCreateEntry, Region\n",
    "from msrest.authentication import ApiKeyCredentials\n",
    "\n",
    "# azureml-core of version 1.0.72 or higher is required\n",
    "# azureml-dataprep[pandas] of version 1.1.34 or higher is required\n",
    "# azureml-contrib-dataset of version 1.0.72 or higher is required"
   ]
  },
  {
   "cell_type": "markdown",
   "metadata": {},
   "source": [
    "## 1. Set up Custom Vision project"
   ]
  },
  {
   "cell_type": "markdown",
   "metadata": {},
   "source": [
    "Enter the details for your Custom Vision endpoint and training key below:"
   ]
  },
  {
   "cell_type": "code",
   "execution_count": 2,
   "metadata": {},
   "outputs": [],
   "source": [
    "# ENDPOINT = 'https://YOUR_REGION.api.cognitive.microsoft.com'\n",
    "# training_key = \"<CUSTOM VISION TRAINING KEY>\"\n",
    "\n",
    "ENDPOINT = 'https://westus2.api.cognitive.microsoft.com'\n",
    "training_key = \"bc43db20938e453b89b5fffc9ccbc8f9\"\n",
    "\n",
    "credentials = ApiKeyCredentials(in_headers={\"Training-key\": training_key})\n",
    "trainer = CustomVisionTrainingClient(endpoint=ENDPOINT, credentials=credentials)"
   ]
  },
  {
   "cell_type": "markdown",
   "metadata": {},
   "source": [
    "### Option 1: Create new project"
   ]
  },
  {
   "cell_type": "markdown",
   "metadata": {},
   "source": [
    "The below cell will create a new Custom Vision project.  Enter a name for your project below:\n",
    "\n",
    "Note: If you have an existing project, skip to the next cell."
   ]
  },
  {
   "cell_type": "code",
   "execution_count": 3,
   "metadata": {},
   "outputs": [
    {
     "name": "stdout",
     "output_type": "stream",
     "text": [
      "Creating new project...\n",
      "test project created\n"
     ]
    }
   ],
   "source": [
    "# project_name = \"<PROJECT NAME>\"\n",
    "project_name = \"test\"\n",
    "\n",
    "# Find the object detection domain\n",
    "obj_detection_domain = next(domain for domain in trainer.get_domains() if domain.type == \"ObjectDetection\" and domain.name == \"General\")\n",
    "\n",
    "# Create a new project\n",
    "print(\"Creating new project...\")\n",
    "project = trainer.create_project(project_name, domain_id=obj_detection_domain.id)\n",
    "print(project.name, \"project created\")"
   ]
  },
  {
   "cell_type": "markdown",
   "metadata": {},
   "source": [
    "### Option 2: Update existing Custom Vision project"
   ]
  },
  {
   "cell_type": "markdown",
   "metadata": {},
   "source": [
    "The below cell will get an existing project by ID.  Enter your project ID below (you can retrieve this ID from your project in the [Custom Vision portal](http://customvision.ai)):"
   ]
  },
  {
   "cell_type": "code",
   "execution_count": null,
   "metadata": {},
   "outputs": [],
   "source": [
    "project_id = \"<PROJECT ID>\"\n",
    "\n",
    "# Get existing project\n",
    "project = trainer.get_project(project_id = project_id) \n",
    "print(project.name, \"project retrieved\")"
   ]
  },
  {
   "cell_type": "markdown",
   "metadata": {},
   "source": [
    "## 2. Read labeled dataset from csv"
   ]
  },
  {
   "cell_type": "code",
   "execution_count": 6,
   "metadata": {},
   "outputs": [
    {
     "data": {
      "text/html": [
       "<div>\n",
       "<style scoped>\n",
       "    .dataframe tbody tr th:only-of-type {\n",
       "        vertical-align: middle;\n",
       "    }\n",
       "\n",
       "    .dataframe tbody tr th {\n",
       "        vertical-align: top;\n",
       "    }\n",
       "\n",
       "    .dataframe thead th {\n",
       "        text-align: right;\n",
       "    }\n",
       "</style>\n",
       "<table border=\"1\" class=\"dataframe\">\n",
       "  <thead>\n",
       "    <tr style=\"text-align: right;\">\n",
       "      <th></th>\n",
       "      <th>annotation</th>\n",
       "      <th>image_url</th>\n",
       "    </tr>\n",
       "  </thead>\n",
       "  <tbody>\n",
       "    <tr>\n",
       "      <th>0</th>\n",
       "      <td>[{\"id\": \"1322953c-2209-4113-8b51-b2a2d2311e69\"...</td>\n",
       "      <td>https://cf-315f62h.s3.us-east-1.amazonaws.com/...</td>\n",
       "    </tr>\n",
       "    <tr>\n",
       "      <th>1</th>\n",
       "      <td>[{\"id\": \"1e8fa8b9-e530-4b45-bd56-eb30f5dfc9ef\"...</td>\n",
       "      <td>https://cf-315f62h.s3.us-east-1.amazonaws.com/...</td>\n",
       "    </tr>\n",
       "    <tr>\n",
       "      <th>2</th>\n",
       "      <td>[{\"id\": \"bf99ed99-f008-46a0-b0ef-3588e329dd91\"...</td>\n",
       "      <td>https://cf-315f62h.s3.us-east-1.amazonaws.com/...</td>\n",
       "    </tr>\n",
       "    <tr>\n",
       "      <th>3</th>\n",
       "      <td>[{\"id\": \"34b9ff40-bfd7-47a0-9fd3-e6f9c72928f6\"...</td>\n",
       "      <td>https://cf-315f62h.s3.us-east-1.amazonaws.com/...</td>\n",
       "    </tr>\n",
       "    <tr>\n",
       "      <th>4</th>\n",
       "      <td>[{\"id\": \"521e21d4-99a2-44ad-abb1-3c4aa4d31bfb\"...</td>\n",
       "      <td>https://cf-315f62h.s3.us-east-1.amazonaws.com/...</td>\n",
       "    </tr>\n",
       "  </tbody>\n",
       "</table>\n",
       "</div>"
      ],
      "text/plain": [
       "                                          annotation  \\\n",
       "0  [{\"id\": \"1322953c-2209-4113-8b51-b2a2d2311e69\"...   \n",
       "1  [{\"id\": \"1e8fa8b9-e530-4b45-bd56-eb30f5dfc9ef\"...   \n",
       "2  [{\"id\": \"bf99ed99-f008-46a0-b0ef-3588e329dd91\"...   \n",
       "3  [{\"id\": \"34b9ff40-bfd7-47a0-9fd3-e6f9c72928f6\"...   \n",
       "4  [{\"id\": \"521e21d4-99a2-44ad-abb1-3c4aa4d31bfb\"...   \n",
       "\n",
       "                                           image_url  \n",
       "0  https://cf-315f62h.s3.us-east-1.amazonaws.com/...  \n",
       "1  https://cf-315f62h.s3.us-east-1.amazonaws.com/...  \n",
       "2  https://cf-315f62h.s3.us-east-1.amazonaws.com/...  \n",
       "3  https://cf-315f62h.s3.us-east-1.amazonaws.com/...  \n",
       "4  https://cf-315f62h.s3.us-east-1.amazonaws.com/...  "
      ]
     },
     "execution_count": 6,
     "metadata": {},
     "output_type": "execute_result"
    }
   ],
   "source": [
    "# filename = \"<PATH TO CSV FILE WITH LABELS>\" \n",
    "filename = \"../data/mantech_final.csv\" \n",
    "\n",
    "df = pd.read_csv(filename)\n",
    "df = df[['annotation','image_url']]\n",
    "df.head()"
   ]
  },
  {
   "cell_type": "markdown",
   "metadata": {},
   "source": [
    "### Prep images and format tags for Custom Vision"
   ]
  },
  {
   "cell_type": "code",
   "execution_count": 9,
   "metadata": {},
   "outputs": [],
   "source": [
    "def get_image_from_url(url):\n",
    "    response = requests.get(url)\n",
    "    img = Image.open(BytesIO(response.content))\n",
    "    width = img.size[0]\n",
    "    height = img.size[1]\n",
    "    return img, width, height\n",
    "\n",
    "def get_bbox(label, width, height):\n",
    "    l = label['x']/width\n",
    "    t = label['y']/height\n",
    "    w = label['w']/width\n",
    "    h = label['h']/height\n",
    "    \n",
    "    return l,t,w,h"
   ]
  },
  {
   "cell_type": "code",
   "execution_count": 16,
   "metadata": {},
   "outputs": [],
   "source": [
    "# create temp directory for labeled dataset download\n",
    "tmp_dir = '../tmp'\n",
    "if not os.path.exists(tmp_dir):\n",
    "    os.makedirs(tmp_dir)\n",
    "\n",
    "tagged_ims = []\n",
    "tags = trainer.get_tags(project.id)\n",
    "\n",
    "previous_url = ''\n",
    "regions = []\n",
    "for i, row in df.iterrows():\n",
    "    \n",
    "    # handle first as edge case to get pointer to previous image url\n",
    "    if i == 0:\n",
    "        previous_url = row['image_url']\n",
    "        img, width, height = get_image_from_url(previous_url)\n",
    "        filename = os.path.join(tmp_dir, previous_url.split('/')[-1])\n",
    "        img.save(filename)\n",
    "        print(f\"Processing image: {row['image_name']}\")\n",
    "        \n",
    "    # get image url and label\n",
    "    img_url = row['image_url']\n",
    "    label = json.loads(row['annotation'])\n",
    "    \n",
    "    # retrieve tag object by label name\n",
    "    label_name = 'vehicle'\n",
    "    try:\n",
    "        index = [x.name for x in tags].index(label_name)\n",
    "        tag = tags[index]\n",
    "    # create tag if it does not exist yet\n",
    "    except:\n",
    "        print(\"Creating new tag for:\", label_name)\n",
    "        tag = trainer.create_tag(project.id, label_name)\n",
    "        tags = trainer.get_tags(project.id)\n",
    "      \n",
    "    # create bounding box regions\n",
    "    coords = label[0]['coordinates']   \n",
    "    l,t,w,h = get_bbox(coords, width, height)\n",
    "    regions.append(Region(tag_id=tag.id,left=l,top=t,width=w,height=h))\n",
    "    \n",
    "    # when we get to a new image\n",
    "    if img_url != previous_url:\n",
    "        \n",
    "        # create image file entry for all data from previous image and append to image set\n",
    "        with open(filename, mode=\"rb\") as im_data:\n",
    "            tagged_ims.append(ImageFileCreateEntry(name=filename, contents=im_data.read(), regions=regions))\n",
    "        \n",
    "        # get info from new image\n",
    "        img, width, height = get_image_from_url(img_url)\n",
    "        filename = os.path.join(tmp_dir, img_url.split('/')[-1])\n",
    "        img.save(filename)\n",
    "        print(f\"Processing image: {row['image_name']}\")\n",
    "        \n",
    "    # update previous url to current\n",
    "    previous_url = img_url"
   ]
  },
  {
   "cell_type": "markdown",
   "metadata": {},
   "source": [
    "## 4. Upload images and tags to Custom Vision"
   ]
  },
  {
   "cell_type": "code",
   "execution_count": null,
   "metadata": {},
   "outputs": [],
   "source": []
  },
  {
   "cell_type": "code",
   "execution_count": null,
   "metadata": {},
   "outputs": [],
   "source": [
    "counter = 0\n",
    "\n",
    "for i in range(0, len(tagged_ims), 64): \n",
    "    if counter < 2:\n",
    "        batch = tagged_ims[i:i+64]\n",
    "        trainer.create_images_from_files(project.id, images=batch)\n",
    "        counter += 1\n",
    "        print('Uploaded batch ', counter, ' of ', math.ceil(len(tagged_ims)/64))\n",
    "\n",
    "# clean up temp directory\n",
    "# shutil.rmtree(tmp_dir)"
   ]
  },
  {
   "cell_type": "code",
   "execution_count": null,
   "metadata": {},
   "outputs": [],
   "source": []
  }
 ],
 "metadata": {
  "kernelspec": {
   "display_name": "Python 3",
   "language": "python",
   "name": "python3"
  },
  "language_info": {
   "codemirror_mode": {
    "name": "ipython",
    "version": 3
   },
   "file_extension": ".py",
   "mimetype": "text/x-python",
   "name": "python",
   "nbconvert_exporter": "python",
   "pygments_lexer": "ipython3",
   "version": "3.7.4"
  },
  "varInspector": {
   "cols": {
    "lenName": 16,
    "lenType": 16,
    "lenVar": 40
   },
   "kernels_config": {
    "python": {
     "delete_cmd_postfix": "",
     "delete_cmd_prefix": "del ",
     "library": "var_list.py",
     "varRefreshCmd": "print(var_dic_list())"
    },
    "r": {
     "delete_cmd_postfix": ") ",
     "delete_cmd_prefix": "rm(",
     "library": "var_list.r",
     "varRefreshCmd": "cat(var_dic_list()) "
    }
   },
   "types_to_exclude": [
    "module",
    "function",
    "builtin_function_or_method",
    "instance",
    "_Feature"
   ],
   "window_display": false
  }
 },
 "nbformat": 4,
 "nbformat_minor": 2
}
