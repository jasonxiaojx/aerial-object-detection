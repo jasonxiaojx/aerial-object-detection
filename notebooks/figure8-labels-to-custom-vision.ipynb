{
 "cells": [
  {
   "cell_type": "markdown",
   "metadata": {},
   "source": [
    "# Import Figure8 labels to Custom Vision Service"
   ]
  },
  {
   "cell_type": "code",
   "execution_count": null,
   "metadata": {},
   "outputs": [],
   "source": [
    "# install packages if needed\n",
    "import sys\n",
    "!{sys.executable} -m pip install azure-cognitiveservices-vision-customvision\n",
    "!{sys.executable} -m pip install azureml-sdk\n",
    "!{sys.executable} -m pip install azureml-contrib-dataset\n",
    "!{sys.executable} -m pip install pandas\n",
    "!{sys.executable} -m pip install Pillow"
   ]
  },
  {
   "cell_type": "code",
   "execution_count": null,
   "metadata": {},
   "outputs": [],
   "source": [
    "import json, os, shutil, requests, math\n",
    "import pandas as pd\n",
    "import matplotlib.pyplot as plt\n",
    "import numpy as np\n",
    "\n",
    "from PIL import Image\n",
    "from io import BytesIO\n",
    "from numpy import asarray\n",
    "\n",
    "from azure.cognitiveservices.vision.customvision.training import CustomVisionTrainingClient\n",
    "from azure.cognitiveservices.vision.customvision.training.models import ImageFileCreateEntry, Region\n",
    "from msrest.authentication import ApiKeyCredentials\n",
    "\n",
    "# azureml-core of version 1.0.72 or higher is required\n",
    "# azureml-dataprep[pandas] of version 1.1.34 or higher is required\n",
    "# azureml-contrib-dataset of version 1.0.72 or higher is required"
   ]
  },
  {
   "cell_type": "markdown",
   "metadata": {},
   "source": [
    "## 1. Set up Custom Vision project"
   ]
  },
  {
   "cell_type": "markdown",
   "metadata": {},
   "source": [
    "Enter the details for your Custom Vision endpoint and training key below:"
   ]
  },
  {
   "cell_type": "code",
   "execution_count": null,
   "metadata": {},
   "outputs": [],
   "source": [
    "ENDPOINT = 'https://YOUR_REGION.api.cognitive.microsoft.com'\n",
    "training_key = \"<CUSTOM VISION TRAINING KEY>\"\n",
    "\n",
    "credentials = ApiKeyCredentials(in_headers={\"Training-key\": training_key})\n",
    "trainer = CustomVisionTrainingClient(endpoint=ENDPOINT, credentials=credentials)"
   ]
  },
  {
   "cell_type": "markdown",
   "metadata": {},
   "source": [
    "### Option 1: Create new project"
   ]
  },
  {
   "cell_type": "markdown",
   "metadata": {},
   "source": [
    "The below cell will create a new Custom Vision project.  Enter a name for your project below:\n",
    "\n",
    "Note: If you have an existing project, skip to the next cell."
   ]
  },
  {
   "cell_type": "code",
   "execution_count": null,
   "metadata": {},
   "outputs": [],
   "source": [
    "project_name = \"<PROJECT NAME>\"\n",
    "\n",
    "# Find the object detection domain\n",
    "obj_detection_domain = next(domain for domain in trainer.get_domains() if domain.type == \"ObjectDetection\" and domain.name == \"General\")\n",
    "\n",
    "# Create a new project\n",
    "print(\"Creating new project...\")\n",
    "project = trainer.create_project(project_name, domain_id=obj_detection_domain.id)\n",
    "print(project.name, \"project created\")"
   ]
  },
  {
   "cell_type": "markdown",
   "metadata": {},
   "source": [
    "### Option 2: Update existing Custom Vision project"
   ]
  },
  {
   "cell_type": "markdown",
   "metadata": {},
   "source": [
    "The below cell will get an existing project by ID.  Enter your project ID below (you can retrieve this ID from your project in the [Custom Vision portal](http://customvision.ai)):"
   ]
  },
  {
   "cell_type": "code",
   "execution_count": null,
   "metadata": {},
   "outputs": [],
   "source": [
    "project_id = \"<PROJECT ID>\"\n",
    "\n",
    "# Get existing project\n",
    "project = trainer.get_project(project_id = project_id) \n",
    "print(project.name, \"project retrieved\")"
   ]
  },
  {
   "cell_type": "markdown",
   "metadata": {},
   "source": [
    "## 2. Read labeled dataset from csv"
   ]
  },
  {
   "cell_type": "code",
   "execution_count": null,
   "metadata": {},
   "outputs": [],
   "source": [
    "filename = \"<PATH TO CSV FILE WITH LABELS>\" \n",
    "\n",
    "df = pd.read_csv(filename)\n",
    "df = df[['annotation','image_url','image_name']]\n",
    "df.head()"
   ]
  },
  {
   "cell_type": "markdown",
   "metadata": {},
   "source": [
    "### Prep images and format tags for Custom Vision"
   ]
  },
  {
   "cell_type": "code",
   "execution_count": null,
   "metadata": {},
   "outputs": [],
   "source": [
    "def get_image_from_url(url):\n",
    "    response = requests.get(url)\n",
    "    img = Image.open(BytesIO(response.content))\n",
    "    width = img.size[0]\n",
    "    height = img.size[1]\n",
    "    img_bytes = image_to_bytes(img)\n",
    "    return img_bytes, width, height\n",
    "\n",
    "def get_bbox(label, width, height):\n",
    "    l = label['x']/width\n",
    "    t = label['y']/height\n",
    "    w = label['w']/width\n",
    "    h = label['h']/height  \n",
    "    return l,t,w,h\n",
    "\n",
    "def image_to_bytes(image):\n",
    "    # Convert image to byte stream\n",
    "    img_byte_arr = BytesIO()\n",
    "    image.save(img_byte_arr, format='PNG')\n",
    "    img_byte_arr = img_byte_arr.getvalue()\n",
    "    return img_byte_arr"
   ]
  },
  {
   "cell_type": "code",
   "execution_count": null,
   "metadata": {},
   "outputs": [],
   "source": [
    "tagged_ims = []\n",
    "tags = trainer.get_tags(project.id)\n",
    "\n",
    "num_labels = df.shape[0]\n",
    "\n",
    "previous_url = ''\n",
    "regions = []\n",
    "for i, row in df.iterrows():\n",
    "    \n",
    "    # handle first as edge case to get pointer to previous image url\n",
    "    if i == 0:\n",
    "        previous_url = row['image_url']\n",
    "        img_bytes, width, height = get_image_from_url(previous_url)\n",
    "        filename = row['image_name']\n",
    "        print(f\"Processing image: {filename} - Label: {i}/{num_labels}\")\n",
    "        \n",
    "    # get image url and label\n",
    "    img_url = row['image_url']\n",
    "    label = json.loads(row['annotation'])\n",
    "    \n",
    "    # retrieve tag object by label name \n",
    "    label_name = 'vehicle'  # TODO: read other types of labels dynamically \n",
    "    try:\n",
    "        index = [x.name for x in tags].index(label_name)\n",
    "        tag = tags[index]\n",
    "    # create tag if it does not exist yet\n",
    "    except:\n",
    "        print(\"Creating new tag for:\", label_name)\n",
    "        tag = trainer.create_tag(project.id, label_name)\n",
    "        tags = trainer.get_tags(project.id)\n",
    "      \n",
    "    # create bounding box regions\n",
    "    l,t,w,h = get_bbox(label[0]['coordinates'], width, height)\n",
    "    \n",
    "    # when we get to a new image\n",
    "    if img_url != previous_url:\n",
    "        \n",
    "        # create image file entry for all data from previous image and append to image set\n",
    "        tagged_ims.append(ImageFileCreateEntry(name=filename, contents=img_bytes, regions=regions))\n",
    "    \n",
    "        regions = []\n",
    "        regions.append(Region(tag_id=tag.id,left=l,top=t,width=w,height=h))\n",
    "        \n",
    "        # get info from new image\n",
    "        img_bytes, width, height = get_image_from_url(img_url)\n",
    "        filename = row['image_name']\n",
    "\n",
    "        print(f\"Processing image: {filename} - Label: {i}/{num_labels}\")\n",
    "        \n",
    "    else:\n",
    "        regions.append(Region(tag_id=tag.id,left=l,top=t,width=w,height=h))\n",
    "\n",
    "    # update previous url to current\n",
    "    previous_url = img_url"
   ]
  },
  {
   "cell_type": "markdown",
   "metadata": {},
   "source": [
    "## 3. Upload images and tags to Custom Vision"
   ]
  },
  {
   "cell_type": "code",
   "execution_count": null,
   "metadata": {},
   "outputs": [],
   "source": [
    "counter = 0\n",
    "\n",
    "for i in range(0, len(tagged_ims), 64): \n",
    "    batch = tagged_ims[i:i+64]\n",
    "    result = trainer.create_images_from_files(project.id, images=batch)\n",
    "\n",
    "    counter += 1\n",
    "    print(f\"Uploaded batch {counter} of {math.ceil(len(tagged_ims)/64)}: {result.is_batch_successful}\")\n",
    "    \n",
    "    if not result.is_batch_successful:\n",
    "        for j, image in enumerate(result.images):\n",
    "            print(f\" Image {j} status: {image.status}\")"
   ]
  }
 ],
 "metadata": {
  "kernelspec": {
   "display_name": "Python 3",
   "language": "python",
   "name": "python3"
  },
  "language_info": {
   "codemirror_mode": {
    "name": "ipython",
    "version": 3
   },
   "file_extension": ".py",
   "mimetype": "text/x-python",
   "name": "python",
   "nbconvert_exporter": "python",
   "pygments_lexer": "ipython3",
   "version": "3.7.4"
  },
  "varInspector": {
   "cols": {
    "lenName": 16,
    "lenType": 16,
    "lenVar": 40
   },
   "kernels_config": {
    "python": {
     "delete_cmd_postfix": "",
     "delete_cmd_prefix": "del ",
     "library": "var_list.py",
     "varRefreshCmd": "print(var_dic_list())"
    },
    "r": {
     "delete_cmd_postfix": ") ",
     "delete_cmd_prefix": "rm(",
     "library": "var_list.r",
     "varRefreshCmd": "cat(var_dic_list()) "
    }
   },
   "types_to_exclude": [
    "module",
    "function",
    "builtin_function_or_method",
    "instance",
    "_Feature"
   ],
   "window_display": false
  }
 },
 "nbformat": 4,
 "nbformat_minor": 2
}
