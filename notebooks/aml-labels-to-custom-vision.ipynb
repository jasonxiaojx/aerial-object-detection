{
 "cells": [
  {
   "cell_type": "markdown",
   "metadata": {},
   "source": [
    "# Import AML Labeler Tags to Custom Vision"
   ]
  },
  {
   "cell_type": "code",
   "execution_count": null,
   "metadata": {},
   "outputs": [],
   "source": [
    "import json, os, shutil\n",
    "import azureml.contrib.dataset\n",
    "\n",
    "from azureml.core import Workspace, Dataset, Datastore\n",
    "\n",
    "from azure.cognitiveservices.vision.customvision.training import CustomVisionTrainingClient\n",
    "from azure.cognitiveservices.vision.customvision.training.models import ImageFileCreateEntry, Region\n",
    "\n",
    "from PIL import Image"
   ]
  },
  {
   "cell_type": "markdown",
   "metadata": {},
   "source": [
    "## Download labeled dataset from Azure ML"
   ]
  },
  {
   "cell_type": "code",
   "execution_count": null,
   "metadata": {},
   "outputs": [],
   "source": [
    "# azureml-core of version 1.0.72 or higher is required\n",
    "# azureml-dataprep[pandas] of version 1.1.34 or higher is required\n",
    "# azureml-contrib-dataset of version 1.0.72 or higher is required\n",
    "\n",
    "from azureml.core import Workspace, Dataset\n",
    "import azureml.contrib.dataset\n",
    "\n",
    "subscription_id = '<SUBSCRIPTION ID>'\n",
    "resource_group = '<RESOURCE GROUP>'\n",
    "workspace_name = '<AML WORKSPACE NAME>'\n",
    "dataset_name = '<LABELED DATASET NAME>'\n",
    "\n",
    "ws = Workspace(subscription_id, resource_group, workspace_name)\n",
    "\n",
    "dataset = Dataset.get_by_name(ws, name=dataset_name)\n",
    "df = dataset.to_pandas_dataframe()"
   ]
  },
  {
   "cell_type": "markdown",
   "metadata": {},
   "source": [
    "## Set up Custom Vision project"
   ]
  },
  {
   "cell_type": "code",
   "execution_count": null,
   "metadata": {},
   "outputs": [],
   "source": [
    "ENDPOINT='https://YOUR_REGION.api.cognitive.microsoft.com'\n",
    "project_name = \"Aerial Images\"\n",
    "\n",
    "training_key = \"<CUSTOM VISION TRAINING KEY>\"\n",
    "trainer = CustomVisionTrainingClient(training_key, endpoint=ENDPOINT)\n",
    "\n",
    "# Find the object detection domain\n",
    "obj_detection_domain = next(domain for domain in trainer.get_domains() if domain.type == \"ObjectDetection\" and domain.name == \"General\")\n",
    "\n",
    "# Create a new project\n",
    "print (\"Creating project...\")\n",
    "project = trainer.create_project(project_name, domain_id=obj_detection_domain.id)"
   ]
  },
  {
   "cell_type": "markdown",
   "metadata": {},
   "source": [
    "### Create tags"
   ]
  },
  {
   "cell_type": "code",
   "execution_count": null,
   "metadata": {},
   "outputs": [],
   "source": [
    "# sample tags - TODO: enable many tags\n",
    "vehicle_tag = trainer.create_tag(project.id, \"vehicle\")\n",
    "building_tag = trainer.create_tag(project.id, \"building\")"
   ]
  },
  {
   "cell_type": "markdown",
   "metadata": {},
   "source": [
    "## Download images and parse labels"
   ]
  },
  {
   "cell_type": "code",
   "execution_count": null,
   "metadata": {},
   "outputs": [],
   "source": [
    "# hack to extract datastore name - no documentation on how to parse StreamInfo - TODO: parse StreamInfo correctly\n",
    "s = str(df.iloc[0].image_url) \n",
    "s = s.split('[')[1].split(']')[0]\n",
    "s = s.replace(\"'\", \"\\\"\") \n",
    "ds = json.loads(s)['datastoreName']\n",
    "\n",
    "# get datastore\n",
    "blob_datastore = Datastore.get(ws, ds)"
   ]
  },
  {
   "cell_type": "code",
   "execution_count": null,
   "metadata": {},
   "outputs": [],
   "source": [
    "# create temp directory for labeled dataset download\n",
    "tmp_dir = '../tmp'\n",
    "if not os.path.exists(tmp_dir):\n",
    "    os.makedirs(tmp_dir)\n",
    "\n",
    "# hack to extract path - no documentation on how to parse StreamInfo - TODO: parse StreamInfo correctly\n",
    "df['path_to_download'] = df['image_url'].apply(lambda x: str(x).split('//')[1].split(\"[\")[0])"
   ]
  },
  {
   "cell_type": "markdown",
   "metadata": {},
   "source": [
    "## Prep images and format tags for Custom Vision"
   ]
  },
  {
   "cell_type": "code",
   "execution_count": null,
   "metadata": {},
   "outputs": [],
   "source": [
    "tagged_ims = []\n",
    "\n",
    "for i, img in df.iterrows():\n",
    "    prefix = img['path_to_download']\n",
    "    blob_datastore.download(target_path=tmp_dir, prefix=prefix)\n",
    "    filename = os.path.join(tmp_dir,prefix)\n",
    "    \n",
    "    im = Image.open(filename)\n",
    "    img_w, img_h = im.size\n",
    "    labels = img['label']\n",
    "    \n",
    "    regions = []\n",
    "    \n",
    "    # parse labels\n",
    "    for label in labels:\n",
    "        label_name = label['label']\n",
    "\n",
    "        l = label['topX']\n",
    "        t = label['topY']\n",
    "        r = label['bottomX']\n",
    "        b = label['bottomY']\n",
    "\n",
    "        w = r-l\n",
    "        h = b-t\n",
    "\n",
    "        if (label_name == 'vehicle'):\n",
    "            tag_id = vehicle_tag.id\n",
    "        elif(label_name == 'building'):\n",
    "            tag_id = building_tag.id\n",
    "\n",
    "        # create bounding box regions\n",
    "        regions.append(Region(tag_id=tag_id,left=l,top=t,width=w,height=h))\n",
    "\n",
    "        with open(filename, mode=\"rb\") as im_data:\n",
    "            tagged_ims.append(ImageFileCreateEntry(name=filename, contents=im_data.read(), regions=regions))"
   ]
  },
  {
   "cell_type": "markdown",
   "metadata": {},
   "source": [
    "## Upload images and tags to Custom Vision"
   ]
  },
  {
   "cell_type": "code",
   "execution_count": null,
   "metadata": {},
   "outputs": [],
   "source": [
    "print(\"Uploading images and tags\")\n",
    "trainer.create_images_from_files(project.id, images=tagged_ims)"
   ]
  },
  {
   "cell_type": "code",
   "execution_count": null,
   "metadata": {},
   "outputs": [],
   "source": [
    "# optional clean up of temp directory\n",
    "shutil.rmtree(tmp_dir)"
   ]
  }
 ],
 "metadata": {
  "kernelspec": {
   "display_name": "Python 3.6 - AzureML",
   "language": "python",
   "name": "python3-azureml"
  },
  "language_info": {
   "codemirror_mode": {
    "name": "ipython",
    "version": 3
   },
   "file_extension": ".py",
   "mimetype": "text/x-python",
   "name": "python",
   "nbconvert_exporter": "python",
   "pygments_lexer": "ipython3",
   "version": "3.6.9"
  }
 },
 "nbformat": 4,
 "nbformat_minor": 2
}
